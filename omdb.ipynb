{
 "cells": [
  {
   "cell_type": "code",
   "execution_count": 1,
   "metadata": {},
   "outputs": [],
   "source": [
    "import requests\n",
    "import json"
   ]
  },
  {
   "cell_type": "code",
   "execution_count": 2,
   "metadata": {},
   "outputs": [],
   "source": [
    "import pandas as pd"
   ]
  },
  {
   "cell_type": "code",
   "execution_count": 3,
   "metadata": {},
   "outputs": [
    {
     "name": "stdout",
     "output_type": "stream",
     "text": [
      "Requirement already satisfied: omdbapi in /Library/Frameworks/Python.framework/Versions/3.11/lib/python3.11/site-packages (0.7.0)\n",
      "Requirement already satisfied: requests in /Library/Frameworks/Python.framework/Versions/3.11/lib/python3.11/site-packages (from omdbapi) (2.31.0)\n",
      "Requirement already satisfied: charset-normalizer<4,>=2 in /Library/Frameworks/Python.framework/Versions/3.11/lib/python3.11/site-packages (from requests->omdbapi) (3.3.0)\n",
      "Requirement already satisfied: idna<4,>=2.5 in /Library/Frameworks/Python.framework/Versions/3.11/lib/python3.11/site-packages (from requests->omdbapi) (3.4)\n",
      "Requirement already satisfied: urllib3<3,>=1.21.1 in /Library/Frameworks/Python.framework/Versions/3.11/lib/python3.11/site-packages (from requests->omdbapi) (2.0.6)\n",
      "Requirement already satisfied: certifi>=2017.4.17 in /Library/Frameworks/Python.framework/Versions/3.11/lib/python3.11/site-packages (from requests->omdbapi) (2023.7.22)\n",
      "\n",
      "\u001b[1m[\u001b[0m\u001b[34;49mnotice\u001b[0m\u001b[1;39;49m]\u001b[0m\u001b[39;49m A new release of pip is available: \u001b[0m\u001b[31;49m23.2.1\u001b[0m\u001b[39;49m -> \u001b[0m\u001b[32;49m23.3.2\u001b[0m\n",
      "\u001b[1m[\u001b[0m\u001b[34;49mnotice\u001b[0m\u001b[1;39;49m]\u001b[0m\u001b[39;49m To update, run: \u001b[0m\u001b[32;49mpip3 install --upgrade pip\u001b[0m\n",
      "Note: you may need to restart the kernel to use updated packages.\n"
     ]
    }
   ],
   "source": [
    "%pip install omdbapi"
   ]
  },
  {
   "cell_type": "code",
   "execution_count": 4,
   "metadata": {},
   "outputs": [],
   "source": [
    "from omdbapi.movie_search import GetMovie\n",
    "\n",
    "movie = GetMovie(api_key='2f1cc457')\n"
   ]
  },
  {
   "cell_type": "code",
   "execution_count": 12,
   "metadata": {},
   "outputs": [],
   "source": [
    "titles = pd.read_csv('/Users/yuxianggao/Desktop/SI 507/Movies/our_movie_titles.csv')"
   ]
  },
  {
   "cell_type": "code",
   "execution_count": 13,
   "metadata": {},
   "outputs": [
    {
     "data": {
      "text/html": [
       "<div>\n",
       "<style scoped>\n",
       "    .dataframe tbody tr th:only-of-type {\n",
       "        vertical-align: middle;\n",
       "    }\n",
       "\n",
       "    .dataframe tbody tr th {\n",
       "        vertical-align: top;\n",
       "    }\n",
       "\n",
       "    .dataframe thead th {\n",
       "        text-align: right;\n",
       "    }\n",
       "</style>\n",
       "<table border=\"1\" class=\"dataframe\">\n",
       "  <thead>\n",
       "    <tr style=\"text-align: right;\">\n",
       "      <th></th>\n",
       "      <th>Think Like a Man</th>\n",
       "    </tr>\n",
       "  </thead>\n",
       "  <tbody>\n",
       "    <tr>\n",
       "      <th>0</th>\n",
       "      <td>Kizumonogatari Part 1: Tekketsu</td>\n",
       "    </tr>\n",
       "    <tr>\n",
       "      <th>1</th>\n",
       "      <td>U.F.O.</td>\n",
       "    </tr>\n",
       "    <tr>\n",
       "      <th>2</th>\n",
       "      <td>Ozzie</td>\n",
       "    </tr>\n",
       "    <tr>\n",
       "      <th>3</th>\n",
       "      <td>No Man's Land</td>\n",
       "    </tr>\n",
       "    <tr>\n",
       "      <th>4</th>\n",
       "      <td>The Stone Council</td>\n",
       "    </tr>\n",
       "    <tr>\n",
       "      <th>...</th>\n",
       "      <td>...</td>\n",
       "    </tr>\n",
       "    <tr>\n",
       "      <th>4994</th>\n",
       "      <td>Ambition</td>\n",
       "    </tr>\n",
       "    <tr>\n",
       "      <th>4995</th>\n",
       "      <td>The Dive from Clausen's Pier</td>\n",
       "    </tr>\n",
       "    <tr>\n",
       "      <th>4996</th>\n",
       "      <td>Our Children</td>\n",
       "    </tr>\n",
       "    <tr>\n",
       "      <th>4997</th>\n",
       "      <td>In Harmony</td>\n",
       "    </tr>\n",
       "    <tr>\n",
       "      <th>4998</th>\n",
       "      <td>The Wild Bull</td>\n",
       "    </tr>\n",
       "  </tbody>\n",
       "</table>\n",
       "<p>4999 rows × 1 columns</p>\n",
       "</div>"
      ],
      "text/plain": [
       "                     Think Like a Man\n",
       "0     Kizumonogatari Part 1: Tekketsu\n",
       "1                              U.F.O.\n",
       "2                               Ozzie\n",
       "3                       No Man's Land\n",
       "4                   The Stone Council\n",
       "...                               ...\n",
       "4994                         Ambition\n",
       "4995     The Dive from Clausen's Pier\n",
       "4996                     Our Children\n",
       "4997                       In Harmony\n",
       "4998                    The Wild Bull\n",
       "\n",
       "[4999 rows x 1 columns]"
      ]
     },
     "execution_count": 13,
     "metadata": {},
     "output_type": "execute_result"
    }
   ],
   "source": [
    "titles"
   ]
  },
  {
   "cell_type": "code",
   "execution_count": 14,
   "metadata": {},
   "outputs": [],
   "source": [
    "info = []\n",
    "for t in titles:\n",
    "    try:\n",
    "        result = movie.get_movie(title=t.strip())\n",
    "        info.append(result.copy())\n",
    "    except:\n",
    "        pass"
   ]
  },
  {
   "cell_type": "code",
   "execution_count": 15,
   "metadata": {},
   "outputs": [
    {
     "name": "stdout",
     "output_type": "stream",
     "text": [
      "[{'title': 'Think Like a Man', 'year': '2012', 'rated': 'PG-13', 'released': '20 Apr 2012', 'runtime': '122 min', 'genre': 'Comedy, Romance', 'director': 'Tim Story', 'writer': 'Keith Merryman, David A. Newman, Steve Harvey', 'actors': 'Chris Brown, Gabrielle Union, Kevin Hart', 'plot': \"Four friends conspire to turn the tables on their women when they discover the ladies have been using Steve Harvey's relationship advice against them.\", 'language': 'English', 'country': 'United States', 'awards': '3 wins & 14 nominations', 'poster': 'https://m.media-amazon.com/images/M/MV5BMjExNTc4NDg3OV5BMl5BanBnXkFtZTcwNTMzNDAxNw@@._V1_SX300.jpg', 'ratings': [{'Source': 'Internet Movie Database', 'Value': '6.5/10'}, {'Source': 'Rotten Tomatoes', 'Value': '54%'}, {'Source': 'Metacritic', 'Value': '51/100'}], 'metascore': '51', 'imdbrating': '6.5', 'imdbvotes': '49,627', 'imdbid': 'tt1621045', 'type': 'movie', 'dvd': '04 Feb 2014', 'boxoffice': '$91,547,205', 'production': 'N/A', 'website': 'N/A'}]\n"
     ]
    }
   ],
   "source": [
    "print(info)"
   ]
  },
  {
   "cell_type": "code",
   "execution_count": 16,
   "metadata": {},
   "outputs": [],
   "source": [
    "filename = 'movies.json'\n",
    "with open(filename, \"w\") as json_file:\n",
    "    json.dump(info, json_file)\n"
   ]
  },
  {
   "cell_type": "code",
   "execution_count": 17,
   "metadata": {},
   "outputs": [],
   "source": [
    "# cache\n",
    "# Try to load data from the cache dictionary\n",
    "with open(\"movies.json\", \"r\") as cache_file:\n",
    "    cache = json.load(cache_file)\n"
   ]
  },
  {
   "cell_type": "code",
   "execution_count": 18,
   "metadata": {},
   "outputs": [
    {
     "name": "stdout",
     "output_type": "stream",
     "text": [
      "[{'title': 'Think Like a Man', 'year': '2012', 'rated': 'PG-13', 'released': '20 Apr 2012', 'runtime': '122 min', 'genre': 'Comedy, Romance', 'director': 'Tim Story', 'writer': 'Keith Merryman, David A. Newman, Steve Harvey', 'actors': 'Chris Brown, Gabrielle Union, Kevin Hart', 'plot': \"Four friends conspire to turn the tables on their women when they discover the ladies have been using Steve Harvey's relationship advice against them.\", 'language': 'English', 'country': 'United States', 'awards': '3 wins & 14 nominations', 'poster': 'https://m.media-amazon.com/images/M/MV5BMjExNTc4NDg3OV5BMl5BanBnXkFtZTcwNTMzNDAxNw@@._V1_SX300.jpg', 'ratings': [{'Source': 'Internet Movie Database', 'Value': '6.5/10'}, {'Source': 'Rotten Tomatoes', 'Value': '54%'}, {'Source': 'Metacritic', 'Value': '51/100'}], 'metascore': '51', 'imdbrating': '6.5', 'imdbvotes': '49,627', 'imdbid': 'tt1621045', 'type': 'movie', 'dvd': '04 Feb 2014', 'boxoffice': '$91,547,205', 'production': 'N/A', 'website': 'N/A'}]\n"
     ]
    }
   ],
   "source": [
    "print(cache)"
   ]
  }
 ],
 "metadata": {
  "kernelspec": {
   "display_name": ".venv",
   "language": "python",
   "name": "python3"
  },
  "language_info": {
   "codemirror_mode": {
    "name": "ipython",
    "version": 3
   },
   "file_extension": ".py",
   "mimetype": "text/x-python",
   "name": "python",
   "nbconvert_exporter": "python",
   "pygments_lexer": "ipython3",
   "version": "3.11.5"
  }
 },
 "nbformat": 4,
 "nbformat_minor": 2
}
